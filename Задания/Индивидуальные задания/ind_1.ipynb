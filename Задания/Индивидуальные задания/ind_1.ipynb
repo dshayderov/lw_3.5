{
 "cells": [
  {
   "cell_type": "markdown",
   "id": "27a1a7b0",
   "metadata": {},
   "source": [
    "# Индивидуальное задание 1\n",
    "\n",
    "> Создать ноутбук, в котором выполнить решение вычислительной задачи (например, задачи из области физики, экономики, математики, статистики и т. д.) требующей построения линейного графика.\n",
    "\n",
    "Определить мгновенный ток в индуктивном элементе $L=0.1Гн$, построить векторные и временные диаграммы тока и напряжения, если напряжение на индуктивном элементе $u = 20sin(10^3 t - 30^0)$"
   ]
  },
  {
   "cell_type": "code",
   "execution_count": 1,
   "id": "ddf86d79",
   "metadata": {},
   "outputs": [],
   "source": [
    "import numpy as np\n",
    "import matplotlib.pyplot as plt\n",
    "import cmath as cm\n",
    "%matplotlib inline"
   ]
  },
  {
   "cell_type": "markdown",
   "id": "b7dcad58",
   "metadata": {},
   "source": [
    "Запишем известные переменные. Из уравнения напряжения на индуктивном элементе определим значения амплитуды напряжения $U_m$, угловой частоты $ω$ и фазы $Ψ_u$."
   ]
  },
  {
   "cell_type": "code",
   "execution_count": 2,
   "id": "4579df61",
   "metadata": {},
   "outputs": [],
   "source": [
    "L = 0.1\n",
    "Um = 20\n",
    "ω = pow(10, 3)\n",
    "Ψu = np.radians(-30)"
   ]
  },
  {
   "cell_type": "markdown",
   "id": "93a5adf5",
   "metadata": {},
   "source": [
    "Определим комплексную амплитуду напряжения $\\underline{U_{m}} = U_{m}e^{j Ψ_{u}}$"
   ]
  },
  {
   "cell_type": "code",
   "execution_count": 3,
   "id": "1217f4b0",
   "metadata": {},
   "outputs": [
    {
     "name": "stdout",
     "output_type": "stream",
     "text": [
      "Комплексная амплитуда напряжения: (17.320508075688775-9.999999999999998j)\n"
     ]
    }
   ],
   "source": [
    "_Um = Um * cm.exp(1j * Ψu)\n",
    "print(f\"Комплексная амплитуда напряжения: {_Um}\")"
   ]
  },
  {
   "cell_type": "markdown",
   "id": "6e77065d",
   "metadata": {},
   "source": [
    "Определим комплексное сопротивление индуктивного элемента $\\underline{Z} = jωL$"
   ]
  },
  {
   "cell_type": "code",
   "execution_count": 4,
   "id": "e2bc4c6e",
   "metadata": {},
   "outputs": [
    {
     "name": "stdout",
     "output_type": "stream",
     "text": [
      "Комплексное сопротивление: 100j\n"
     ]
    }
   ],
   "source": [
    "_Z = 1j * ω * L\n",
    "print(f\"Комплексное сопротивление: {_Z}\")"
   ]
  },
  {
   "cell_type": "markdown",
   "id": "09731907",
   "metadata": {},
   "source": [
    "По закону Ома находим комплексную амплитуду тока в индуктивном  элементе $\\underline{I_m} = \\frac{\\underline{U_m}}{\\underline{Z}}$"
   ]
  },
  {
   "cell_type": "code",
   "execution_count": 5,
   "id": "0eaef2a6",
   "metadata": {},
   "outputs": [
    {
     "name": "stdout",
     "output_type": "stream",
     "text": [
      "Комплексная амплитуда тока: (-0.09999999999999998-0.17320508075688776j)\n"
     ]
    }
   ],
   "source": [
    "_Im = _Um / _Z\n",
    "print(f\"Комплексная амплитуда тока: {_Im}\")"
   ]
  },
  {
   "cell_type": "markdown",
   "id": "18e31252",
   "metadata": {},
   "source": [
    "Определим значения амплитуды тока $I_m$ и фазы $Ψ_i$."
   ]
  },
  {
   "cell_type": "code",
   "execution_count": 6,
   "id": "71c7c397",
   "metadata": {},
   "outputs": [
    {
     "name": "stdout",
     "output_type": "stream",
     "text": [
      "Фаза тока Ψi = -120°\n"
     ]
    }
   ],
   "source": [
    "Ψi = round(np.degrees(cm.phase(_Im)))\n",
    "print(f\"Фаза тока Ψi = {Ψi}°\")"
   ]
  },
  {
   "cell_type": "code",
   "execution_count": 7,
   "id": "9b158694",
   "metadata": {},
   "outputs": [
    {
     "name": "stdout",
     "output_type": "stream",
     "text": [
      "Амплитуда тока Im = 0.2 A\n"
     ]
    }
   ],
   "source": [
    "Im = abs(_Im)\n",
    "print(f\"Амплитуда тока Im = {Im} A\")"
   ]
  },
  {
   "cell_type": "markdown",
   "id": "029f1909",
   "metadata": {},
   "source": [
    "Строим векторную диаграмму"
   ]
  },
  {
   "cell_type": "markdown",
   "id": "f8d71968",
   "metadata": {},
   "source": [
    "Выбираем масштабные множители"
   ]
  },
  {
   "cell_type": "code",
   "execution_count": 8,
   "id": "035c70c0",
   "metadata": {},
   "outputs": [],
   "source": [
    "mu = 5\n",
    "mi = 0.1"
   ]
  },
  {
   "cell_type": "code",
   "execution_count": 9,
   "id": "e29ebdfc",
   "metadata": {
    "scrolled": true
   },
   "outputs": [
    {
     "data": {
      "image/png": "[encoded data removed]",
      "text/plain": [
       "<Figure size 432x288 with 1 Axes>"
      ]
     },
     "metadata": {
      "needs_background": "light"
     },
     "output_type": "display_data"
    }
   ],
   "source": [
    "fig, ax = plt.subplots()\n",
    "ax.quiver([0, 0], [0, 0], [_Um.real / mu, _Im.real / mi], \n",
    "          [_Um.imag / mu, _Im.imag / mi], color=['blue', 'red'], \n",
    "          angles='xy', scale_units='xy', scale=1)\n",
    "ax.quiver([0, 0], [-1, 0], [0, 4], [3, 0], angles='xy', \n",
    "          scale_units='xy', scale=1)\n",
    "\n",
    "plt.xlim(-3,5)\n",
    "plt.ylim(-3,2.5)\n",
    "\n",
    "ax.text(-1.5, -2, r'$I_m$', color='red', fontsize=18)\n",
    "ax.text(3.8, -2.1, r'$U_m$', color='blue', fontsize=18)\n",
    "ax.text(-0.5, 0, '0', fontsize=18)\n",
    "\n",
    "ax.text(-0.7, 2, '+j', fontsize=18)\n",
    "ax.text(4.1, 0, '+1', fontsize=18)\n",
    "\n",
    "ax.set_title(\"Векторная диаграмма тока и напряжения\", fontsize=16)\n",
    "\n",
    "ax.grid()\n",
    "plt.show()"
   ]
  },
  {
   "cell_type": "markdown",
   "id": "2e2119a3",
   "metadata": {},
   "source": [
    "Строим временные диаграммы тока и напряжения"
   ]
  },
  {
   "cell_type": "code",
   "execution_count": 10,
   "id": "426f9680",
   "metadata": {},
   "outputs": [
    {
     "data": {
      "image/png": "[encoded data removed]",
      "text/plain": [
       "<Figure size 432x288 with 1 Axes>"
      ]
     },
     "metadata": {
      "needs_background": "light"
     },
     "output_type": "display_data"
    }
   ],
   "source": [
    "fig, ax = plt.subplots()\n",
    "\n",
    "x1 = np.arange(Ψu, 5, 0.1)\n",
    "y1 = Um / mu * np.sin(ω * x1)\n",
    "x2 = np.arange(np.radians(Ψi), 5, 0.1)\n",
    "y2 = Im / 0.05 *np.sin(ω * x2)\n",
    "\n",
    "ax.plot(x1, y1, '-b')\n",
    "ax.plot(x2, y2, '-.r')\n",
    "\n",
    "plt.xlim(0, cm.pi)\n",
    "plt.ylim(-6, 6)\n",
    "\n",
    "ax.text(0.75, 4.5, 'i', color='red', fontsize=18)\n",
    "ax.text(0.5, -5, 'u', color='blue', fontsize=18)\n",
    "\n",
    "ax.set_title(\"Временная диаграмма тока и напряжения\", fontsize=16)\n",
    "\n",
    "ax.grid()\n",
    "plt.show()"
   ]
  },
  {
   "cell_type": "code",
   "execution_count": null,
   "id": "08c3da66",
   "metadata": {},
   "outputs": [],
   "source": []
  }
 ],
 "metadata": {
  "kernelspec": {
   "display_name": "Python 3 (ipykernel)",
   "language": "python",
   "name": "python3"
  },
  "language_info": {
   "codemirror_mode": {
    "name": "ipython",
    "version": 3
   },
   "file_extension": ".py",
   "mimetype": "text/x-python",
   "name": "python",
   "nbconvert_exporter": "python",
   "pygments_lexer": "ipython3",
   "version": "3.9.7"
  }
 },
 "nbformat": 4,
 "nbformat_minor": 5
}
