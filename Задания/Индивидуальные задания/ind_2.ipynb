{
 "cells": [
  {
   "cell_type": "markdown",
   "id": "4b6ff46a",
   "metadata": {},
   "source": [
    "# Индивидуальное задание 2\n",
    "\n",
    "> Создать ноутбук, в котором выполнить решение вычислительной задачи (например, задачи из области физики, экономики, математики, статистики и т. д.) требующей построения столбчатой диаграммы.\n",
    "\n",
    "Измерена максимальная ёмкость 20 подстроечных конденсаторов, и \n",
    "результаты измерений (в пикофарадах) приведены в таблице:\n",
    "\n",
    "Номер конденсатора | 1 | 2 | 3 | 4 | 5 | 6 | 7 | 8 | 9 | 10\n",
    "--- | | | | | | | | | | |\n",
    "Емкость, пкФ | 4,40 | 4,31 | 4,40 | 4,40 | 4,65 | 4,56 | 4,71 | 4,54 | 4,36 | 4,56\n",
    "\n",
    "Номер конденсатора | 11 | 12 | 13 | 14 | 15 | 16 | 17 | 18 | 19 | 20\n",
    "--- | | | | | | | | | | |\n",
    "Емкость, пкФ | 4,31 | 4,42 | 4,60 | 4,35 | 4,50 | 4,40 | 4,43 | 4,48 | 4,42 | 4,45\n",
    "\n",
    "Построить группированный статистический ряд и изобразить его в виде \n",
    "гистограммы. Оценить генеральные числовые характеристики с помощью \n",
    "группированного статистического ряда."
   ]
  },
  {
   "cell_type": "code",
   "execution_count": 1,
   "id": "880941f3",
   "metadata": {},
   "outputs": [],
   "source": [
    "import numpy as np\n",
    "import matplotlib.pyplot as plt\n",
    "import cmath as cm\n",
    "%matplotlib inline"
   ]
  },
  {
   "cell_type": "code",
   "execution_count": 2,
   "id": "8a4c7999",
   "metadata": {},
   "outputs": [],
   "source": [
    "x = [4.40, 4.31, 4.40, 4.40, 4.65, 4.56, 4.71, 4.54, 4.36, 4.56,\n",
    "    4.31, 4.42, 4.60, 4.35, 4.50, 4.40, 4.43, 4.48, 4.42, 4.45]\n",
    "n = np.arange(1, 20, 1)"
   ]
  },
  {
   "cell_type": "markdown",
   "id": "76003551",
   "metadata": {},
   "source": [
    "Промежуток \\[$x_{min}, x_{max}$\\] делится на некоторое число $k$ равных по длине промежутков. Обозначим эти промежутки слева направо через $Δ_1, Δ_2,..., Δ_k$. Если точки, разделяющие промежутки обозначить $a_0, a_1,..., a_k$, то $Δ_1 = [x_{min}, a_1), Δ_2 = [a_1, a_2),..., Δ_k = [a_{k-1}, x_{max}]$. Пусть $n_i$ - число элементов выборки, попавших в промежуток $Δ_i$. Числа $n_1, n_2,..., n_k$ называются частотами попадания элементов выборки в рассматриваемые промежутки.  \n",
    "Совокупность промежутков $Δ_1, Δ_2,..., Δ_k$ и соответствующих им частот называется группированным статистическим рядом"
   ]
  },
  {
   "cell_type": "markdown",
   "id": "69af771e",
   "metadata": {},
   "source": [
    "Для определения $k$ можно использовать формулу Стёрджесса: $k = 1 + 3.3\\lg(n)$"
   ]
  },
  {
   "cell_type": "code",
   "execution_count": 3,
   "id": "6cb8a13e",
   "metadata": {},
   "outputs": [
    {
     "name": "stdout",
     "output_type": "stream",
     "text": [
      "Число промежутков: 5\n"
     ]
    }
   ],
   "source": [
    "k = 1 + 3.3 * cm.log10(n.size)\n",
    "k = round(k.real)\n",
    "print(f\"Число промежутков: {k}\")"
   ]
  },
  {
   "cell_type": "markdown",
   "id": "92f4e3f8",
   "metadata": {},
   "source": [
    "Длина промежутков $Δ_1, Δ_2,..., Δ_k$ определится по формуле \\begin{equation} h = \\frac{(x_{max} - x_{min})}{k} \\end{equation}"
   ]
  },
  {
   "cell_type": "code",
   "execution_count": 4,
   "id": "f17e3739",
   "metadata": {},
   "outputs": [
    {
     "name": "stdout",
     "output_type": "stream",
     "text": [
      "Длина проежутков: 0.08\n"
     ]
    }
   ],
   "source": [
    "h = round((np.max(x) - np.min(x)) / k, 3)\n",
    "print(f\"Длина проежутков: {h}\")"
   ]
  },
  {
   "cell_type": "markdown",
   "id": "e7be0d35",
   "metadata": {},
   "source": [
    "Определим промежутки $Δ_1, Δ_2,..., Δ_k$."
   ]
  },
  {
   "cell_type": "code",
   "execution_count": 5,
   "id": "819c46e3",
   "metadata": {},
   "outputs": [
    {
     "name": "stdout",
     "output_type": "stream",
     "text": [
      "Δ_1 = [4.31 4.31 4.35 4.36]\n",
      "Δ_2 = [4.4  4.4  4.4  4.4  4.42 4.42 4.43 4.45]\n",
      "Δ_3 = [4.48 4.5  4.54]\n",
      "Δ_4 = [4.56 4.56 4.6 ]\n",
      "Δ_5 = [4.65 4.71]\n"
     ]
    }
   ],
   "source": [
    "xs = np.sort(x)\n",
    "s = np.arange(np.min(xs), np.max(xs) - h, h)\n",
    "Δ = [xs[(xs <= (i + h)) & (xs >= i)] for i in s]\n",
    "diaps = [print(f\"Δ_{count + 1} = {value}\") \n",
    "         for count, value in enumerate(Δ)]"
   ]
  },
  {
   "cell_type": "markdown",
   "id": "56ce247f",
   "metadata": {},
   "source": [
    "Вместо группы элементов, попавших в интервал $Δ_i$, рассматривается \n",
    "один их представитель. В качестве такого представителя обычно берут \n",
    "среднюю точку $x_i^*$ промежутка $Δ_i$. Следует считать, что элемент $x_i^*$ встречается в выборке $n_i$ раз, то есть имеет частоту $n_i$."
   ]
  },
  {
   "cell_type": "code",
   "execution_count": 6,
   "id": "f906e2d5",
   "metadata": {},
   "outputs": [
    {
     "name": "stdout",
     "output_type": "stream",
     "text": [
      "x_i = [4.33, 4.42, 4.51, 4.57, 4.68]\n",
      "n_i = [4, 8, 3, 3, 2]\n"
     ]
    }
   ],
   "source": [
    "xi = [np.round(np.mean(i), 2) for i in Δ]\n",
    "ni = [np.size(i) for i in Δ]\n",
    "print(f\"x_i = {xi}\")\n",
    "print(f\"n_i = {ni}\")"
   ]
  },
  {
   "cell_type": "markdown",
   "id": "e7e00158",
   "metadata": {},
   "source": [
    "### Группированный статистический ряд\n",
    "\n",
    "$x_i$ | 4.33 | 4.42 | 4.51 | 4.57 | 4.68\n",
    "---| | | | | |\n",
    "$n_i$ | 4 | 8 | 3 | 3 | 2"
   ]
  },
  {
   "cell_type": "markdown",
   "id": "4968d568",
   "metadata": {},
   "source": [
    "Гистограммой частот называют ступенчатую фигуру, состоящую из  прямоугольников, основаниями которых служат частичные интервалы \n",
    "длиною $h$, а высоты равны отношению $\\frac{n_i}{h}$ (плотность частоты)."
   ]
  },
  {
   "cell_type": "code",
   "execution_count": 7,
   "id": "3f369aa7",
   "metadata": {},
   "outputs": [
    {
     "data": {
      "text/plain": [
       "<BarContainer object of 5 artists>"
      ]
     },
     "execution_count": 7,
     "metadata": {},
     "output_type": "execute_result"
    },
    {
     "data": {
      "image/png": "[encoded data removed]",
      "text/plain": [
       "<Figure size 432x288 with 1 Axes>"
      ]
     },
     "metadata": {
      "needs_background": "light"
     },
     "output_type": "display_data"
    }
   ],
   "source": [
    "fig, ax = plt.subplots()\n",
    "\n",
    "groups = [f\"{i}\" for i in s]\n",
    "counts = [i / h for i in ni]\n",
    "\n",
    "ax.set_xlabel(r\"$x$\", fontsize=16)\n",
    "ax.set_ylabel(r\"$\\frac{n_i}{h}$\", rotation=0, fontsize=18)\n",
    "\n",
    "ax.set_title(\"Гистограмма частот\", fontsize=16)\n",
    "\n",
    "ax.bar(groups, counts)"
   ]
  },
  {
   "cell_type": "markdown",
   "id": "a0bc3b16",
   "metadata": {},
   "source": [
    "Определим выборочную среднюю и выборочный начальный момент второго порядка по формулам:\n",
    "\\begin{equation} \\overline{x} = \\frac{1}{n} \\sum_{i = 1}^{k} n_i x_i^* \\end{equation}\n",
    "\\begin{equation} a_l = \\frac{1}{n} \\sum_{i = 1}^{k} n_i (x_i^*)^l \\end{equation}"
   ]
  },
  {
   "cell_type": "code",
   "execution_count": 8,
   "id": "d9c87e40",
   "metadata": {},
   "outputs": [
    {
     "name": "stdout",
     "output_type": "stream",
     "text": [
      "Выборочная средняя: 4.6989\n",
      "Выборочный начальный момент второго порядка: 20.9877\n"
     ]
    }
   ],
   "source": [
    "xv = np.round(1 / np.size(n) * np.sum([\n",
    "    ni[i] * xi[i] for i in np.arange(0, k)]), 4)\n",
    "a2 = np.round(1 / np.size(n) * np.sum([\n",
    "    ni[i] * pow(xi[i], 2) for i in np.arange(0, k)]), 4)\n",
    "print(f\"Выборочная средняя: {xv}\")\n",
    "print(f\"Выборочный начальный момент второго порядка: {a2}\")"
   ]
  },
  {
   "cell_type": "code",
   "execution_count": null,
   "id": "75b89431",
   "metadata": {},
   "outputs": [],
   "source": []
  }
 ],
 "metadata": {
  "kernelspec": {
   "display_name": "Python 3 (ipykernel)",
   "language": "python",
   "name": "python3"
  },
  "language_info": {
   "codemirror_mode": {
    "name": "ipython",
    "version": 3
   },
   "file_extension": ".py",
   "mimetype": "text/x-python",
   "name": "python",
   "nbconvert_exporter": "python",
   "pygments_lexer": "ipython3",
   "version": "3.9.7"
  }
 },
 "nbformat": 4,
 "nbformat_minor": 5
}
