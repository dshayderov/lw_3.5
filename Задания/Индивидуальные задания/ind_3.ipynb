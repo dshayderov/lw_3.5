{
 "cells": [
  {
   "cell_type": "markdown",
   "id": "99caeb96",
   "metadata": {},
   "source": [
    "# Индивидуальное задание 3\n",
    "\n",
    ">Создать ноутбук, в котором выполнить решение вычислительной задачи (например, задачи из области физики, экономики, математики, статистики и т. д.) требующей построения круговой диаграммы.\n",
    "\n",
    "Через 640 г 20%-ного раствора сульфата меди(II) пропускали электрический ток до тех пор, пока на аноде не выделилось 13,44 л (н. у.) газа. К образовавшемуся раствору добавили 65 г цинка. Определите массовую долю сульфата цинка в полученном растворе.  \n",
    "Построить круговые диаграммы, отображающие соотношение масс веществ в растворе после электролиза и массовую долю сульфата цинка в конечном растворе."
   ]
  },
  {
   "cell_type": "code",
   "execution_count": 1,
   "id": "4b3d75c9",
   "metadata": {},
   "outputs": [],
   "source": [
    "import numpy as np\n",
    "import matplotlib.pyplot as plt\n",
    "import cmath as cm\n",
    "%matplotlib inline"
   ]
  },
  {
   "cell_type": "markdown",
   "id": "a99bf9d7",
   "metadata": {},
   "source": [
    "Составим уравнение реакции электролиза раствора сульфата меди(II):\n",
    "\\begin{equation}\n",
    "2CuSO_4 + 2H_2O \\stackrel{эл. ток}{\\longmapsto} 2Cu \\downarrow + O_2 \\uparrow + 2H_2SO_4 (1)\n",
    "\\end{equation}"
   ]
  },
  {
   "cell_type": "markdown",
   "id": "2c10db6c",
   "metadata": {},
   "source": [
    "Определим, является ли выделившийся газ продуктом только одной реакции:\n",
    "\\begin{equation}\n",
    "v = \\frac{m}{M},\n",
    "\\end{equation}\n",
    "где $m$ - масса вещества, $M$ - молярная масса.\n",
    "\\begin{equation}\n",
    "v = \\frac{V}{V_m},\n",
    "\\end{equation}\n",
    "где $V$ - объем газа при нормальных условиях, $V_m$ - молярный объем газа при тех же условиях, равный $22,4 \\frac{л}{моль}$ по закону Авогадро."
   ]
  },
  {
   "cell_type": "code",
   "execution_count": 2,
   "id": "5dcf5b8d",
   "metadata": {},
   "outputs": [
    {
     "name": "stdout",
     "output_type": "stream",
     "text": [
      "Количество вещества сульфата меди: 0.8 моль\n"
     ]
    }
   ],
   "source": [
    "m_CuSO4 = 640\n",
    "ρ_CuSO4 = 0.2\n",
    "M_CuSO4 = 64 + 32 + 4 * 16\n",
    "\n",
    "v_CuSO4 = m_CuSO4 * ρ_CuSO4 / M_CuSO4\n",
    "print(f\"Количество вещества сульфата меди: {v_CuSO4} моль\")"
   ]
  },
  {
   "cell_type": "code",
   "execution_count": 3,
   "id": "6665bc67",
   "metadata": {},
   "outputs": [
    {
     "name": "stdout",
     "output_type": "stream",
     "text": [
      "Количество вещества газа: 0.6\n"
     ]
    }
   ],
   "source": [
    "V_O2 = 13.44\n",
    "Vm = 22.4\n",
    "\n",
    "v_O2 = V_O2 / Vm\n",
    "print(f\"Количество вещества газа: {v_O2}\")"
   ]
  },
  {
   "cell_type": "markdown",
   "id": "2aefa211",
   "metadata": {},
   "source": [
    "Но по уравнению реакции (1) должно выделиться $v(CuSO_4): 2 = 0,4$ моль кислорода. Значит, кислород выделяется ещё в результате реакции электролиза серной кислоты (воды):\n",
    "\\begin{equation}\n",
    "2H_2O \\stackrel{эл. ток}{\\longmapsto} 2H_2 + O_2 \\uparrow (2)\n",
    "\\end{equation}\n",
    "Тогда $v(O_2)_{по 2} = v(O_2) - 0,4$ моль."
   ]
  },
  {
   "cell_type": "code",
   "execution_count": 4,
   "id": "a32a7910",
   "metadata": {},
   "outputs": [
    {
     "name": "stdout",
     "output_type": "stream",
     "text": [
      "v_O2_2 = 0.2\n"
     ]
    }
   ],
   "source": [
    "v_O2_2 = round(v_O2 - 0.4, 1)\n",
    "print(f\"v_O2_2 = {v_O2_2}\")"
   ]
  },
  {
   "cell_type": "markdown",
   "id": "9c85d799",
   "metadata": {},
   "source": [
    "Определим массу раствора по результатам двух реакций электролиза:\n",
    "\\begin{equation}\n",
    "m_{после эл-за} = m_{р-ра}(CuSO_4) - m(O_2) - m(H_2) - m(Cu)\n",
    "\\end{equation}"
   ]
  },
  {
   "cell_type": "code",
   "execution_count": 5,
   "id": "e180b4f9",
   "metadata": {},
   "outputs": [
    {
     "name": "stdout",
     "output_type": "stream",
     "text": [
      "Масса O2: 19.2 г\n",
      "Масса H2: 0.8 г\n",
      "Масса Cu: 51.2 г\n",
      "Масса H2SO4: 78.4 г\n",
      "Масса раствора после электролиза: 568.8 г\n"
     ]
    }
   ],
   "source": [
    "M_O2 = 2 * 16\n",
    "m_O2 = v_O2 * M_O2\n",
    "print(f\"Масса O2: {m_O2} г\")\n",
    "\n",
    "M_H2 = 2 * 1\n",
    "v_H2 = 2 * v_O2_2\n",
    "m_H2 = v_H2 * M_H2\n",
    "print(f\"Масса H2: {m_H2} г\")\n",
    "\n",
    "M_Cu = 64\n",
    "v_Cu = v_CuSO4\n",
    "m_Cu = v_Cu * M_Cu\n",
    "print(f\"Масса Cu: {m_Cu} г\")\n",
    "\n",
    "M_H2SO4 = 2 * 1 + 32 + 4 * 16\n",
    "v_H2SO4 = v_CuSO4\n",
    "m_H2SO4 = v_H2SO4 * M_H2SO4\n",
    "print(f\"Масса H2SO4: {m_H2SO4} г\")\n",
    "\n",
    "m_after = m_CuSO4 - m_O2 - m_H2 - m_Cu\n",
    "print(f\"Масса раствора после электролиза: {m_after} г\")"
   ]
  },
  {
   "cell_type": "markdown",
   "id": "d466234d",
   "metadata": {},
   "source": [
    "Построим круговую диаграмму, отображающую соотношение масс веществ в растворе после электролиза."
   ]
  },
  {
   "cell_type": "code",
   "execution_count": 6,
   "id": "8263ee1f",
   "metadata": {},
   "outputs": [
    {
     "data": {
      "text/plain": [
       "(-1.109491562489598,\n",
       " 1.1004519791661713,\n",
       " -1.1089130818802466,\n",
       " 1.108697251153528)"
      ]
     },
     "execution_count": 6,
     "metadata": {},
     "output_type": "execute_result"
    },
    {
     "data": {
      "image/png": "[encoded data removed]",
      "text/plain": [
       "<Figure size 432x288 with 1 Axes>"
      ]
     },
     "metadata": {},
     "output_type": "display_data"
    }
   ],
   "source": [
    "vals = [m_Cu, m_O2, m_H2SO4]\n",
    "labels = [r\"$Cu$\", r\"$O_2$\", r\"$H_2SO_4$\"]\n",
    "\n",
    "fig, ax = plt.subplots()\n",
    "ax.pie(vals, labels=labels, autopct='%1.1f%%', shadow=True, \n",
    "       textprops={'fontsize': '12'})\n",
    "\n",
    "ax.set_title(\"Соотношение масс веществ в растворе после электролиза\",\n",
    "            fontsize=14)\n",
    "\n",
    "ax.axis(\"equal\")"
   ]
  },
  {
   "cell_type": "markdown",
   "id": "87558b20",
   "metadata": {},
   "source": [
    "К полученном раствору добавили цинк:\n",
    "\\begin{equation}\n",
    "Zn + H_2SO_4 = ZnSO_4 + H_2 \\uparrow (3)\n",
    "\\end{equation}\n",
    "Определим, какой из реагентов в избытке, а какой  — в недостатке:"
   ]
  },
  {
   "cell_type": "code",
   "execution_count": 7,
   "id": "0ab65f64",
   "metadata": {},
   "outputs": [
    {
     "name": "stdout",
     "output_type": "stream",
     "text": [
      "Количество вещества H2SO4: 0.8 моль\n",
      "Количество вещества Zn: 1.0 моль\n"
     ]
    }
   ],
   "source": [
    "v_H2SO4 = v_CuSO4\n",
    "print(f\"Количество вещества H2SO4: {v_H2SO4} моль\")\n",
    "\n",
    "m_Zn = 65\n",
    "M_Zn = 65\n",
    "v_Zn = m_Zn / M_Zn\n",
    "print(f\"Количество вещества Zn: {v_Zn} моль\")"
   ]
  },
  {
   "cell_type": "markdown",
   "id": "ac0d8939",
   "metadata": {},
   "source": [
    "отсюда видим, что цинк в избытке. Значит, можем определить, сколько именно цинка прореагировало:\n",
    "\\begin{equation}\n",
    "v(Zn)_{прореаг.} =v(H_2SO_4)\n",
    "\\end{equation}"
   ]
  },
  {
   "cell_type": "code",
   "execution_count": 8,
   "id": "0dfd5b72",
   "metadata": {},
   "outputs": [
    {
     "name": "stdout",
     "output_type": "stream",
     "text": [
      "Масса прореагировавшего Zn: 52.0 г\n"
     ]
    }
   ],
   "source": [
    "v_Zn_react = v_H2SO4\n",
    "m_Zn_react = v_Zn_react * M_Zn\n",
    "print(f\"Масса прореагировавшего Zn: {m_Zn_react} г\")"
   ]
  },
  {
   "cell_type": "markdown",
   "id": "eb4e381d",
   "metadata": {},
   "source": [
    "Найдём массу конечно раствора, после реакции с цинком:\n",
    "\\begin{equation}\n",
    "m_{кон.} = m_{после эл-за} + m(Zn)_{прореаг.} - m(H_2)_{по 3}\n",
    "\\end{equation}"
   ]
  },
  {
   "cell_type": "code",
   "execution_count": 9,
   "id": "a6f89f6c",
   "metadata": {},
   "outputs": [
    {
     "name": "stdout",
     "output_type": "stream",
     "text": [
      "Масса конечного раствора: 619.2 г\n"
     ]
    }
   ],
   "source": [
    "v_H2_3 = v_Zn_react\n",
    "m_H2_3 = v_H2_3 * M_H2\n",
    "m_end = round(m_after + m_Zn_react - m_H2_3, 1)\n",
    "print(f\"Масса конечного раствора: {m_end} г\")"
   ]
  },
  {
   "cell_type": "markdown",
   "id": "b32420ad",
   "metadata": {},
   "source": [
    "откуда массовая доля cульфата цинка в конечном растворе:\n",
    "\\begin{equation}\n",
    "w(ZnSO_4) = \\frac{m_{вещ.}}{m_{р-ра}}\n",
    "\\end{equation}"
   ]
  },
  {
   "cell_type": "code",
   "execution_count": 10,
   "id": "79444124",
   "metadata": {},
   "outputs": [
    {
     "name": "stdout",
     "output_type": "stream",
     "text": [
      "Массовая доля сульфата цинка: 0.208 = 20.8 %\n"
     ]
    }
   ],
   "source": [
    "v_ZnSO4 = v_Zn_react\n",
    "M_ZnSO4 = 65 + 32 + 4 * 16\n",
    "w_ZnSO4 = round(v_ZnSO4 * M_ZnSO4 / m_end * 100, 1)\n",
    "print(f\"Массовая доля сульфата цинка: {round(w_ZnSO4/100,3)} = {w_ZnSO4} %\")"
   ]
  },
  {
   "cell_type": "markdown",
   "id": "48546958",
   "metadata": {},
   "source": [
    "Построим круговую диаграмму, отображающую массовую долю сульфата цинка $ZnSO_4$ в конечном растворе."
   ]
  },
  {
   "cell_type": "code",
   "execution_count": 11,
   "id": "ee912f9d",
   "metadata": {},
   "outputs": [
    {
     "data": {
      "text/plain": [
       "(-1.1088629419778218,\n",
       " 1.2251919678277896,\n",
       " -1.1044122913329721,\n",
       " 1.1594751361038946)"
      ]
     },
     "execution_count": 11,
     "metadata": {},
     "output_type": "execute_result"
    },
    {
     "data": {
      "image/png": "[encoded data removed]",
      "text/plain": [
       "<Figure size 432x288 with 1 Axes>"
      ]
     },
     "metadata": {},
     "output_type": "display_data"
    }
   ],
   "source": [
    "vals = [w_ZnSO4, 100 - w_ZnSO4]\n",
    "labels = [r\"$ZnSO_4$\", r\"$H_2$\"]\n",
    "explode = (0.15, 0)\n",
    "\n",
    "fig, ax = plt.subplots()\n",
    "\n",
    "ax.pie(vals, labels=labels, autopct='%1.1f%%', shadow=True, \n",
    "       explode=explode, wedgeprops={'lw':1, 'ls':'--','edgecolor':\"k\"}, \n",
    "       rotatelabels=False, textprops={'fontsize': '12'})\n",
    "\n",
    "ax.set_title(r\"Массовая доля сульфата цинка $ZnSO_4$ в конечном растворе\",\n",
    "            fontsize=14)\n",
    "\n",
    "ax.axis(\"equal\")"
   ]
  },
  {
   "cell_type": "code",
   "execution_count": null,
   "id": "8f9f440e",
   "metadata": {},
   "outputs": [],
   "source": []
  }
 ],
 "metadata": {
  "kernelspec": {
   "display_name": "Python 3 (ipykernel)",
   "language": "python",
   "name": "python3"
  },
  "language_info": {
   "codemirror_mode": {
    "name": "ipython",
    "version": 3
   },
   "file_extension": ".py",
   "mimetype": "text/x-python",
   "name": "python",
   "nbconvert_exporter": "python",
   "pygments_lexer": "ipython3",
   "version": "3.9.7"
  }
 },
 "nbformat": 4,
 "nbformat_minor": 5
}
