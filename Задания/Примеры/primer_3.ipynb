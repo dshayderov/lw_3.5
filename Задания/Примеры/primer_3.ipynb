{
 "cells": [
  {
   "cell_type": "markdown",
   "id": "683706b6",
   "metadata": {},
   "source": [
    "# Пример 3\n",
    "### Столбчатые диаграммы"
   ]
  },
  {
   "cell_type": "code",
   "execution_count": 1,
   "id": "7ff5f725",
   "metadata": {},
   "outputs": [],
   "source": [
    "import numpy as np\n",
    "import matplotlib.pyplot as plt"
   ]
  },
  {
   "cell_type": "code",
   "execution_count": 4,
   "id": "021924b0",
   "metadata": {},
   "outputs": [
    {
     "data": {
      "text/plain": [
       "<BarContainer object of 7 artists>"
      ]
     },
     "execution_count": 4,
     "metadata": {},
     "output_type": "execute_result"
    },
    {
     "data": {
      "image/png": "[encoded data removed]",
      "text/plain": [
       "<Figure size 432x288 with 1 Axes>"
      ]
     },
     "metadata": {
      "needs_background": "light"
     },
     "output_type": "display_data"
    }
   ],
   "source": [
    "np.random.seed(123)\n",
    "\n",
    "groups = [f\"P{i}\" for i in np.arange(0, 7, 1)]\n",
    "counts = np.random.randint(3, 10, len(groups))\n",
    "\n",
    "plt.bar(groups, counts)"
   ]
  },
  {
   "cell_type": "code",
   "execution_count": 5,
   "id": "dfd6ffe7",
   "metadata": {},
   "outputs": [
    {
     "data": {
      "text/plain": [
       "<BarContainer object of 7 artists>"
      ]
     },
     "execution_count": 5,
     "metadata": {},
     "output_type": "execute_result"
    },
    {
     "data": {
      "image/png": "[encoded data removed]",
      "text/plain": [
       "<Figure size 432x288 with 1 Axes>"
      ]
     },
     "metadata": {
      "needs_background": "light"
     },
     "output_type": "display_data"
    }
   ],
   "source": [
    "plt.barh(groups, counts)"
   ]
  },
  {
   "cell_type": "code",
   "execution_count": 6,
   "id": "8d50cb13",
   "metadata": {},
   "outputs": [],
   "source": [
    "import matplotlib.colors as mcolors"
   ]
  },
  {
   "cell_type": "code",
   "execution_count": 7,
   "id": "d4bf2a89",
   "metadata": {},
   "outputs": [
    {
     "data": {
      "text/plain": [
       "<BarContainer object of 7 artists>"
      ]
     },
     "execution_count": 7,
     "metadata": {},
     "output_type": "execute_result"
    },
    {
     "data": {
      "image/png": "[encoded data removed]",
      "text/plain": [
       "<Figure size 432x288 with 1 Axes>"
      ]
     },
     "metadata": {
      "needs_background": "light"
     },
     "output_type": "display_data"
    }
   ],
   "source": [
    "bc = mcolors.BASE_COLORS\n",
    "\n",
    "np.random.seed(123)\n",
    "counts = np.random.randint(0, len(bc), len(groups))\n",
    "width = counts*0.1\n",
    "\n",
    "colors = [[\"r\", \"b\", \"g\"][int(np.random.randint(0, 3, 1))] for _ in\n",
    "         counts]\n",
    "plt.bar(groups, counts, width=width, alpha=0.6, bottom=2, \n",
    "        color=colors, edgecolor=\"k\", linewidth=2)"
   ]
  },
  {
   "cell_type": "markdown",
   "id": "ad6e9b97",
   "metadata": {},
   "source": [
    "### Групповые столбчатые диаграммы"
   ]
  },
  {
   "cell_type": "code",
   "execution_count": 9,
   "id": "f227eddb",
   "metadata": {},
   "outputs": [
    {
     "data": {
      "text/plain": [
       "<matplotlib.legend.Legend at 0x23f9e7d4d30>"
      ]
     },
     "execution_count": 9,
     "metadata": {},
     "output_type": "execute_result"
    },
    {
     "data": {
      "image/png": "[encoded data removed]",
      "text/plain": [
       "<Figure size 432x288 with 1 Axes>"
      ]
     },
     "metadata": {
      "needs_background": "light"
     },
     "output_type": "display_data"
    }
   ],
   "source": [
    "cat_par = [f\"P{i}\" for i in np.arange(5)]\n",
    "\n",
    "g1 = [10, 21, 34, 12, 27]\n",
    "g2 = [17, 15, 25, 21, 26]\n",
    "width = 0.3\n",
    "\n",
    "x = np.arange(len(cat_par))\n",
    "\n",
    "fig, ax = plt.subplots()\n",
    "rects1 = ax.bar(x - width/2, g1, width, label='g1')\n",
    "rects2 = ax.bar(x + width/2, g2, width, label='g2')\n",
    "\n",
    "ax.set_title('Пример групповой диаграммы')\n",
    "ax.set_xticks(x)\n",
    "ax.set_xticklabels(cat_par)\n",
    "ax.legend()"
   ]
  },
  {
   "cell_type": "markdown",
   "id": "290f4294",
   "metadata": {},
   "source": [
    "### Диаграмма с errorbar элементом"
   ]
  },
  {
   "cell_type": "code",
   "execution_count": 10,
   "id": "81609e39",
   "metadata": {},
   "outputs": [
    {
     "data": {
      "text/plain": [
       "<BarContainer object of 5 artists>"
      ]
     },
     "execution_count": 10,
     "metadata": {},
     "output_type": "execute_result"
    },
    {
     "data": {
      "image/png": "[encoded data removed]",
      "text/plain": [
       "<Figure size 720x360 with 2 Axes>"
      ]
     },
     "metadata": {
      "needs_background": "light"
     },
     "output_type": "display_data"
    }
   ],
   "source": [
    "np.random.seed(123)\n",
    "rnd = np.random.randint\n",
    "\n",
    "error = np.array([[rnd(2,7), rnd(2,7)] for _ in \n",
    "                  np.arange(len(cat_par))]).T\n",
    "fig, axs = plt.subplots(1, 2, figsize=(10, 5))\n",
    "\n",
    "axs[0].bar(cat_par, g1, yerr=5, ecolor=\"r\", alpha=0.5, \n",
    "          edgecolor=\"b\", linewidth=2)\n",
    "axs[1].bar(cat_par, g1, yerr=error, ecolor=\"r\", alpha=0.5, \n",
    "          edgecolor=\"b\", linewidth=2)"
   ]
  },
  {
   "cell_type": "code",
   "execution_count": null,
   "id": "c8d44be3",
   "metadata": {},
   "outputs": [],
   "source": []
  }
 ],
 "metadata": {
  "kernelspec": {
   "display_name": "Python 3 (ipykernel)",
   "language": "python",
   "name": "python3"
  },
  "language_info": {
   "codemirror_mode": {
    "name": "ipython",
    "version": 3
   },
   "file_extension": ".py",
   "mimetype": "text/x-python",
   "name": "python",
   "nbconvert_exporter": "python",
   "pygments_lexer": "ipython3",
   "version": "3.9.7"
  }
 },
 "nbformat": 4,
 "nbformat_minor": 5
}
